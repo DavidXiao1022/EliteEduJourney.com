{
 "cells": [
  {
   "cell_type": "markdown",
   "id": "140dd965-cbeb-4fef-aee3-76d9ef1a8dc5",
   "metadata": {},
   "source": [
    "# Rock, Paper, Scissors Game\n",
    "\n",
    "Welcome to our interactive Python notebook where you'll learn to create a simple yet fun game: Rock, Paper, Scissors! This game is not only entertaining but also a great way to practice basic programming concepts.\n"
   ]
  },
  {
   "cell_type": "code",
   "execution_count": null,
   "id": "80fba2f4-e2fc-4e5d-a4f5-79905e05efec",
   "metadata": {},
   "outputs": [],
   "source": [
    "import random\n",
    "\n",
    "def play():\n",
    "    user_choice = input(\"Choose 'r' for rock, 'p' for paper, 's' for scissors:\\n\")\n",
    "    computer_choice = random.choice(['r', 'p', 's'])\n",
    "    \n",
    "    if user_choice == computer_choice:\n",
    "        return \"It's a tie!\"\n",
    "    \n",
    "    if is_win(user_choice, computer_choice):\n",
    "        return 'You won!'\n",
    "    \n",
    "    return 'You lost!'\n",
    "\n",
    "def is_win(player, opponent):\n",
    "    # Return True if player wins\n",
    "    if ((player == 'r' and opponent == 's') or \n",
    "        (player == 'p' and opponent == 'r') or \n",
    "        (player == 's' and opponent == 'p')):\n",
    "        return True\n",
    "    return False\n",
    "\n",
    "print(play())\n"
   ]
  },
  {
   "cell_type": "markdown",
   "id": "f2bdc783-d25a-425e-ac46-310a5eb66d2e",
   "metadata": {},
   "source": [
    "## How to Run the Code\r\n",
    "\r\n",
    "To execute the code in the cell above and start the game:\r\n",
    "1. **Click** inside the code cell (the cell with the Python code).\r\n",
    "2. Look for the **Run** button in the toolbar at the top of this notebook. It looks like a play symbol (▶️).\r\n",
    "3. **Click** the **Run** button. \r\n",
    "\r\n",
    "The game will then ask for your input directly below the cell. Type your choice ('r' for rock, 'p' for paper, 's' for scissors) and press **Enter**.\r\n",
    "\r\n",
    "If you make a mistake or want to play again, simply click the **Run** button again to restart the game. Enjoy!\r\n"
   ]
  },
  {
   "cell_type": "markdown",
   "id": "c2ea23cc-ba4f-47b2-950f-d56226fcbcc3",
   "metadata": {},
   "source": [
    "### Example Game Playthrough\r\n",
    "\r\n",
    "- **Prompt**: Choose 'r' for rock, 'p' for paper, 's' for scissors:\r\n",
    "- **User Input**: `r`\r\n",
    "- **Program Output**: You won! (Assuming the computer chose scissors.)\r\n",
    "\r\n",
    "This example demonstrates a single round of the game, showcasing the possible interaction and outcome based on the user's choice.\r\n"
   ]
  },
  {
   "cell_type": "code",
   "execution_count": null,
   "id": "6980eab9-8fd1-4aed-a93b-1247d13115a2",
   "metadata": {},
   "outputs": [],
   "source": [
    "# Detailed Code Explanation:\n",
    "# This section reiterates the game's code with added detailed commentary\n",
    "# to elaborate on the programming logic and design decisions. This is an\n",
    "# excellent opportunity to delve deeper into understanding Python.\n",
    "\n",
    "import random\n",
    "\n",
    "def play():\n",
    "    # User makes a choice from 'r', 'p', 's'. We capture this choice here.\n",
    "    user_choice = input(\"Choose 'r' for rock, 'p' for paper, 's' for scissors:\\n\")\n",
    "    \n",
    "    # The computer's choice is made randomly from the same set of options.\n",
    "    computer_choice = random.choice(['r', 'p', 's'])\n",
    "    \n",
    "    # Compare choices to check for a tie.\n",
    "    if user_choice == computer_choice:\n",
    "        return \"It's a tie!\"\n",
    "    \n",
    "    # Use the is_win function to determine if the user wins.\n",
    "    if is_win(user_choice, computer_choice):\n",
    "        return 'You won!'\n",
    "    \n",
    "    # If it's not a tie and the user didn't win, then the user loses.\n",
    "    return 'You lost!'\n",
    "\n",
    "def is_win(player, opponent):\n",
    "    # Winning conditions:\n",
    "    # Rock ('r') beats Scissors ('s'), Scissors ('s') beat Paper ('p'),\n",
    "    # and Paper ('p') beats Rock ('r').\n",
    "    if ((player == 'r' and opponent == 's') or \n",
    "        (player == 'p' and opponent == 'r') or \n",
    "        (player == 's' and opponent == 'p')):\n",
    "        return True\n",
    "    return False\n",
    "\n",
    "# Start the game\n",
    "print(play())\n"
   ]
  },
  {
   "cell_type": "markdown",
   "id": "0acf7605-6e90-4ad4-aaaf-ae12a139db6c",
   "metadata": {
    "jp-MarkdownHeadingCollapsed": true
   },
   "source": [
    "## Understanding the Game Logic\n",
    "\n",
    "- **Making Choices**: Both the player and the computer make a choice. The player's choice is made through input, while the computer's choice is randomly generated.\n",
    "- **Determining the Outcome**: The game's outcome is determined by comparing the choices. The rules are straightforward: Rock crushes scissors, scissors cut paper, and paper covers rock.\n",
    "- **Winning Logic**: We use a separate function `is_win` to simplify understanding the conditions under which the player wins against the computer.\n"
   ]
  }
 ],
 "metadata": {
  "kernelspec": {
   "display_name": "Python 3 (ipykernel)",
   "language": "python",
   "name": "python3"
  },
  "language_info": {
   "codemirror_mode": {
    "name": "ipython",
    "version": 3
   },
   "file_extension": ".py",
   "mimetype": "text/x-python",
   "name": "python",
   "nbconvert_exporter": "python",
   "pygments_lexer": "ipython3",
   "version": "3.11.7"
  }
 },
 "nbformat": 4,
 "nbformat_minor": 5
}
